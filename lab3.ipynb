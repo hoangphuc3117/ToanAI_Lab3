{
 "cells": [
  {
   "attachments": {},
   "cell_type": "markdown",
   "metadata": {},
   "source": [
    "### Install Networkx"
   ]
  },
  {
   "cell_type": "code",
   "execution_count": null,
   "metadata": {},
   "outputs": [],
   "source": [
    "pip install networkx"
   ]
  },
  {
   "attachments": {},
   "cell_type": "markdown",
   "metadata": {},
   "source": [
    "### Initial Graph"
   ]
  },
  {
   "cell_type": "code",
   "execution_count": 17,
   "metadata": {},
   "outputs": [
    {
     "name": "stdout",
     "output_type": "stream",
     "text": [
      "( 1 , 2 )\n",
      "( 1 , 2 )\n",
      "( 2 , 3 )\n",
      "( 2 , 4 )\n",
      "( 2 , 3 )\n",
      "( 2 , 4 )\n",
      "( 3 , 1 )\n",
      "( 4 , 5 )\n",
      "( 4 , 5 )\n",
      "( 5 , 4 )\n"
     ]
    },
    {
     "data": {
      "image/png": "[encoded data removed]",
      "text/plain": [
       "<Figure size 640x480 with 1 Axes>"
      ]
     },
     "metadata": {},
     "output_type": "display_data"
    }
   ],
   "source": [
    "from graph import Graph, Tarjan\n",
    "import networkx as nx\n",
    "from networkx.drawing.nx_pydot import graphviz_layout\n",
    "\n",
    "g = Graph()\n",
    "for i in range(6):\n",
    "    g.addVertex(i)\n",
    "    g.addEdge(1,2,5)\n",
    "    g.addEdge(2,3,2)\n",
    "    g.addEdge(3,1,2)\n",
    "    g.addEdge(2,4,6)\n",
    "    g.addEdge(5,4,7)\n",
    "    g.addEdge(4,5,7)\n",
    "for v in g:\n",
    "    for w in v.getConnections():\n",
    "        print(\"( %s , %s )\" % (v.getId(), w.getId()))\n",
    "\n",
    "\n",
    "# Visual graph\n",
    "G1 = nx.DiGraph()\n",
    "for v in g:\n",
    "    for w in v.getConnections():\n",
    "        G1.add_edge(v.getId(), w.getId())\n",
    "\n",
    "pos = nx.spring_layout(G1)\n",
    "nx.draw(G1, pos, node_size=1000, node_color='black', font_color='white', edge_color ='green', width = 2, with_labels= True)"
   ]
  },
  {
   "cell_type": "code",
   "execution_count": 26,
   "metadata": {},
   "outputs": [],
   "source": [
    "class Tarjan1():\n",
    "    \"\"\" \n",
    "        Class TarjanGraph\n",
    "        Apply Tarjan algorithm to \n",
    "    \"\"\"\n",
    "    def __init__(self, graph):\n",
    "        super().__init__()\n",
    "        self.graph = graph\n",
    "        self.index = 0\n",
    "        self.stack = []\n",
    "        self.indexes = {}\n",
    "        self.lowlinks = {}\n",
    "        self.answer = []\n",
    "\n",
    "    def setup(self):\n",
    "        for v in self.graph:\n",
    "            if v != None:\n",
    "                self.indexes[v.id] = None\n",
    "                self.lowlinks[v.id] = None\n",
    "\n",
    "    def run(self):\n",
    "        for v in self.graph.getVertices():\n",
    "            vertex = self.graph.getVertex(v)\n",
    "            if vertex != None:\n",
    "                if self.indexes[vertex.id] == None:\n",
    "                    self.SCC(vertex)\n",
    "\n",
    "    def FindInSCC(self, element):\n",
    "        for scc in self.answer:\n",
    "            if element in scc:\n",
    "                return scc[0]\n",
    "    \n",
    "    def SCC(self, v):\n",
    "        self.indexes[v.id] = self.index\n",
    "        self.lowlinks[v.id] = self.index\n",
    "        self.index += 1\n",
    "        self.stack.append(v)\n",
    "        SCComp = []\n",
    "\n",
    "        for w in v.getConnections():\n",
    "            if self.indexes[w.id] == None:\n",
    "                self.SCC(w)\n",
    "                self.lowlinks[v.id] = min(self.lowlinks[v.id], self.lowlinks[w.id])\n",
    "            elif w in self.stack:\n",
    "                self.lowlinks[v.id] = min(self.lowlinks[v.id], self.indexes[w.id])\n",
    "        \n",
    "        if self.lowlinks[v.id] == self.indexes[v.id]:\n",
    "            w = None\n",
    "            while w == None or w.id != v.id:\n",
    "                w = self.stack.pop()\n",
    "                SCComp.append(w)\n",
    "        if SCComp != [] and SCComp not in self.answer:\n",
    "            # SCComp.sort()\n",
    "            self.answer.append(SCComp)\n",
    "\n",
    "    def GetFinalAnswer(self):\n",
    "        FinalAnswer = {}\n",
    "        for answer in self.answer:\n",
    "            for element in answer:\n",
    "                destinations = element.getConnections()\n",
    "                for destination in destinations:\n",
    "                    findElement = self.FindInSCC(element)\n",
    "                    if findElement not in FinalAnswer:\n",
    "                        FinalAnswer[findElement.id] = []\n",
    "\n",
    "                    findDestination = self.FindInSCC(destination)\n",
    "                    if findDestination != [] and findDestination != findElement:\n",
    "                        if findDestination not in FinalAnswer[findElement.id]:\n",
    "                            FinalAnswer[findElement.id].append(findDestination)\n",
    "\n",
    "        #R\n",
    "        print(len(self.answer))\n",
    "        print(self.answer)\n",
    "        \n",
    "        #L\n",
    "        connections = 0\n",
    "        for element in FinalAnswer:\n",
    "            connections += len(FinalAnswer[element])\n",
    "        print(connections)\n",
    "\n",
    "        for key in sorted (FinalAnswer.keys()):\n",
    "            FinalAnswer[key].sort()\n",
    "            for element in FinalAnswer[key]:\n",
    "                print(f'{key} {element}') "
   ]
  },
  {
   "cell_type": "code",
   "execution_count": 27,
   "metadata": {},
   "outputs": [
    {
     "name": "stdout",
     "output_type": "stream",
     "text": [
      "3\n",
      "[[0], [5, 4], [3, 2, 1]]\n",
      "1\n",
      "3 None\n"
     ]
    }
   ],
   "source": [
    "tarj = Tarjan1(g)\n",
    "tarj.setup()\n",
    "tarj.run()\n",
    "tarj.GetFinalAnswer()"
   ]
  }
 ],
 "metadata": {
  "kernelspec": {
   "display_name": "base",
   "language": "python",
   "name": "python3"
  },
  "language_info": {
   "codemirror_mode": {
    "name": "ipython",
    "version": 3
   },
   "file_extension": ".py",
   "mimetype": "text/x-python",
   "name": "python",
   "nbconvert_exporter": "python",
   "pygments_lexer": "ipython3",
   "version": "3.9.13"
  },
  "orig_nbformat": 4
 },
 "nbformat": 4,
 "nbformat_minor": 2
}
